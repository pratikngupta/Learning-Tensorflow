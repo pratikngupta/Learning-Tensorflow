{
 "cells": [
  {
   "cell_type": "markdown",
   "metadata": {},
   "source": [
    "# Introduction to Tensorflow 2.0\n",
    "\n",
    "In this notebook we are going to cover the fundamentals concepts of tensor using TensorFlow 2.0.\n",
    "\n",
    "\n",
    "What is a tensor?\n",
    "A tensor is a generalization of vectors and matrices to potentially higher dimensions. Internally, TensorFlow represents tensors as n-dimensional arrays of base datatypes.\n",
    "\n",
    "\n",
    "What is TensorFlow?\n",
    "TensorFlow is an open source software library for numerical computation using data flow graphs. Nodes in the graph represent mathematical operations, while the graph edges represent the multidimensional data arrays (tensors) communicated between them. The flexible architecture allows you to deploy computation to one or more CPUs or GPUs in a desktop, server, or mobile device with a single API. TensorFlow was originally developed by researchers and engineers working on the Google Brain team within Google's Machine Intelligence research organization for the purposes of conducting machine learning and deep neural networks research, but the system is general enough to be applicable in a wide variety of other domains as well.\n",
    "\n",
    "\n",
    "\n",
    "Concepts covered in this notebook\n",
    "* Introduction to Tensor\n",
    "* Getting information from tensors\n",
    "* Manipulating tensors\n",
    "* Tensors and Numpy\n",
    "* Using @tf.function (a way to speed up your regular Python functions)\n",
    "* Using GPUs with TensorFlow (or TPUs)\n",
    "* Exercises to try for yourself!"
   ]
  },
  {
   "cell_type": "markdown",
   "metadata": {},
   "source": [
    "# Introduction to tensors"
   ]
  },
  {
   "cell_type": "code",
   "execution_count": 1,
   "metadata": {},
   "outputs": [
    {
     "name": "stdout",
     "output_type": "stream",
     "text": [
      "TensorFlow version:  2.12.0\n",
      "NumPy version:  1.23.5\n",
      "Pandas version:  2.0.0\n"
     ]
    }
   ],
   "source": [
    "# Import TensorFlow and other libraries\n",
    "import tensorflow as tf\n",
    "import numpy as np\n",
    "import pandas as pd\n",
    "\n",
    "# Check the version of TensorFlow and other libraries\n",
    "print(\"TensorFlow version: \", tf.__version__)\n",
    "print(\"NumPy version: \", np.__version__)\n",
    "print(\"Pandas version: \", pd.__version__)"
   ]
  },
  {
   "cell_type": "code",
   "execution_count": 2,
   "metadata": {},
   "outputs": [
    {
     "name": "stdout",
     "output_type": "stream",
     "text": [
      "Scalar:  tf.Tensor(10, shape=(), dtype=int32)\n",
      "Number of dimensions:  0\n"
     ]
    }
   ],
   "source": [
    "# creating tensors with tf.constant()\n",
    "\n",
    "scalar = tf.constant(10)\n",
    "\n",
    "# Check the number of dimensions of a tensor (ndim stands for number of dimensions)\n",
    "ndim = scalar.ndim\n",
    "\n",
    "print(\"Scalar: \", scalar)\n",
    "print(\"Number of dimensions: \", ndim)"
   ]
  },
  {
   "cell_type": "code",
   "execution_count": 3,
   "metadata": {},
   "outputs": [
    {
     "name": "stdout",
     "output_type": "stream",
     "text": [
      "Vector:  tf.Tensor([10 10], shape=(2,), dtype=int32)\n",
      "Number of dimensions:  1\n"
     ]
    }
   ],
   "source": [
    "# Create a vector (more than 1 dimension)\n",
    "\n",
    "vector = tf.constant([10, 10])\n",
    "\n",
    "# Check the dimension of our vector\n",
    "ndim = vector.ndim\n",
    "\n",
    "print(\"Vector: \", vector)\n",
    "print(\"Number of dimensions: \", ndim)"
   ]
  },
  {
   "cell_type": "code",
   "execution_count": 4,
   "metadata": {},
   "outputs": [
    {
     "name": "stdout",
     "output_type": "stream",
     "text": [
      "Matrix:  tf.Tensor(\n",
      "[[10  7]\n",
      " [ 7 10]], shape=(2, 2), dtype=int32)\n",
      "Number of dimensions:  2\n"
     ]
    }
   ],
   "source": [
    "# Create a matrix (has more than one dimension)\n",
    "matrix = tf.constant([[10, 7],\n",
    "                      [7, 10]])\n",
    "\n",
    "# Check the dimension of our matrix\n",
    "ndim = matrix.ndim\n",
    "\n",
    "print(\"Matrix: \", matrix)\n",
    "print(\"Number of dimensions: \", ndim)"
   ]
  },
  {
   "cell_type": "code",
   "execution_count": 5,
   "metadata": {},
   "outputs": [
    {
     "name": "stdout",
     "output_type": "stream",
     "text": [
      "Matrix:  tf.Tensor(\n",
      "[[10.  7.]\n",
      " [ 3.  2.]\n",
      " [ 8.  9.]], shape=(3, 2), dtype=float16)\n",
      "Number of dimensions:  2\n"
     ]
    }
   ],
   "source": [
    "# Create another matrix\n",
    "another_matrix = tf.constant([[10., 7.],\n",
    "                              [3., 2.],\n",
    "                              [8., 9.]], dtype=tf.float16) # specify the data type with dtype parameter\n",
    "\n",
    "# Check the dimension of our matrix\n",
    "ndim = another_matrix.ndim\n",
    "\n",
    "print(\"Matrix: \", another_matrix)\n",
    "print(\"Number of dimensions: \", ndim)"
   ]
  },
  {
   "cell_type": "code",
   "execution_count": 6,
   "metadata": {},
   "outputs": [
    {
     "name": "stdout",
     "output_type": "stream",
     "text": [
      "Tensor:  tf.Tensor(\n",
      "[[[ 1  2  3  4]\n",
      "  [ 5  6  7  8]\n",
      "  [ 9 10 11 12]]\n",
      "\n",
      " [[13 14 15 16]\n",
      "  [17 18 19 20]\n",
      "  [21 22 23 24]]\n",
      "\n",
      " [[25 26 27 28]\n",
      "  [29 30 31 32]\n",
      "  [33 34 35 36]]], shape=(3, 3, 4), dtype=int32)\n",
      "Number of dimensions:  3\n"
     ]
    }
   ],
   "source": [
    "# Let's create a tensor\n",
    "tensor = tf.constant([[[1, 2, 3, 4],\n",
    "                       [5, 6, 7, 8],\n",
    "                       [9, 10, 11, 12]],\n",
    "                      [[13, 14, 15, 16],\n",
    "                       [17, 18, 19, 20],\n",
    "                       [21, 22, 23, 24]],\n",
    "                      [[25, 26, 27, 28],\n",
    "                       [29, 30, 31, 32],\n",
    "                       [33, 34, 35, 36]]])\n",
    "\n",
    "# Check the dimension of our tensor\n",
    "ndim = tensor.ndim\n",
    "\n",
    "print(\"Tensor: \", tensor)\n",
    "print(\"Number of dimensions: \", ndim)"
   ]
  },
  {
   "cell_type": "code",
   "execution_count": 7,
   "metadata": {},
   "outputs": [
    {
     "name": "stdout",
     "output_type": "stream",
     "text": [
      "                    Shape  dimensions           Data type\n",
      "Scalar                 ()           0    <dtype: 'int32'>\n",
      "Vector                (2)           1    <dtype: 'int32'>\n",
      "Matrix             (2, 2)           2    <dtype: 'int32'>\n",
      "Another matrix     (3, 2)           2  <dtype: 'float16'>\n",
      "Tensor          (3, 3, 4)           3    <dtype: 'int32'>\n"
     ]
    }
   ],
   "source": [
    "# now use pandas to print the same information\n",
    "df = pd.DataFrame({\"Shape\": [scalar.shape, vector.shape, matrix.shape, another_matrix.shape, tensor.shape],\n",
    "                   \"dimensions\": [scalar.ndim, vector.ndim, matrix.ndim, another_matrix.ndim, tensor.ndim],\n",
    "                   \"Data type\": [scalar.dtype, vector.dtype, matrix.dtype, another_matrix.dtype, tensor.dtype]},\n",
    "                  index=[\"Scalar\", \"Vector\", \"Matrix\", \"Another matrix\", \"Tensor\"])\n",
    "\n",
    "print(df)"
   ]
  },
  {
   "cell_type": "markdown",
   "metadata": {},
   "source": []
  },
  {
   "cell_type": "code",
   "execution_count": 33,
   "metadata": {},
   "outputs": [],
   "source": []
  },
  {
   "cell_type": "markdown",
   "metadata": {},
   "source": []
  }
 ],
 "metadata": {
  "kernelspec": {
   "display_name": "Python 3.10 (tensorflow)",
   "language": "python",
   "name": "tensorflow"
  },
  "language_info": {
   "codemirror_mode": {
    "name": "ipython",
    "version": 3
   },
   "file_extension": ".py",
   "mimetype": "text/x-python",
   "name": "python",
   "nbconvert_exporter": "python",
   "pygments_lexer": "ipython3",
   "version": "3.10.10"
  }
 },
 "nbformat": 4,
 "nbformat_minor": 1
}
