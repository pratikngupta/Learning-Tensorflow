{
 "cells": [
  {
   "cell_type": "markdown",
   "metadata": {},
   "source": [
    "# Introduction to Tensorflow 2.0\n",
    "\n",
    "In this notebook we are going to cover the fundamentals concepts of tensor using TensorFlow 2.0.\n",
    "\n",
    "\n",
    "What is a tensor?\n",
    "A tensor is a generalization of vectors and matrices to potentially higher dimensions. Internally, TensorFlow represents tensors as n-dimensional arrays of base datatypes.\n",
    "\n",
    "\n",
    "What is TensorFlow?\n",
    "TensorFlow is an open source software library for numerical computation using data flow graphs. Nodes in the graph represent mathematical operations, while the graph edges represent the multidimensional data arrays (tensors) communicated between them. The flexible architecture allows you to deploy computation to one or more CPUs or GPUs in a desktop, server, or mobile device with a single API. TensorFlow was originally developed by researchers and engineers working on the Google Brain team within Google's Machine Intelligence research organization for the purposes of conducting machine learning and deep neural networks research, but the system is general enough to be applicable in a wide variety of other domains as well.\n",
    "\n",
    "\n",
    "\n",
    "Concepts covered in this notebook\n",
    "* Introduction to Tensor\n",
    "* Getting information from tensors\n",
    "* Manipulating tensors\n",
    "* Tensors and Numpy\n",
    "* Using @tf.function (a way to speed up your regular Python functions)\n",
    "* Using GPUs with TensorFlow (or TPUs)\n",
    "* Exercises to try for yourself!"
   ]
  },
  {
   "cell_type": "markdown",
   "metadata": {},
   "source": [
    "# Introduction to tensors"
   ]
  },
  {
   "cell_type": "code",
   "execution_count": 1,
   "metadata": {},
   "outputs": [
    {
     "name": "stdout",
     "output_type": "stream",
     "text": [
      "TensorFlow version:  2.12.0\n",
      "NumPy version:  1.23.5\n",
      "Pandas version:  1.5.3\n"
     ]
    }
   ],
   "source": [
    "# Import TensorFlow and other libraries\n",
    "import tensorflow as tf\n",
    "import numpy as np\n",
    "import pandas as pd\n",
    "\n",
    "# Check the version of TensorFlow and other libraries\n",
    "print(\"TensorFlow version: \", tf.__version__)\n",
    "print(\"NumPy version: \", np.__version__)\n",
    "print(\"Pandas version: \", pd.__version__)"
   ]
  },
  {
   "cell_type": "code",
   "execution_count": 2,
   "metadata": {
    "ExecuteTime": {
     "end_time": "2023-04-11T10:22:21.290500Z",
     "start_time": "2023-04-11T10:22:21.286306Z"
    }
   },
   "outputs": [
    {
     "name": "stdout",
     "output_type": "stream",
     "text": [
      "Scalar:  tf.Tensor(10, shape=(), dtype=int32)\n",
      "Number of dimensions:  0\n"
     ]
    }
   ],
   "source": [
    "# creating tensors with tf.constant()\n",
    "\n",
    "scalar = tf.constant(10)\n",
    "\n",
    "# Check the number of dimensions of a tensor (ndim stands for number of dimensions)\n",
    "ndim = scalar.ndim\n",
    "\n",
    "print(\"Scalar: \", scalar)\n",
    "print(\"Number of dimensions: \", ndim)"
   ]
  },
  {
   "cell_type": "code",
   "execution_count": 3,
   "metadata": {
    "ExecuteTime": {
     "end_time": "2023-04-11T10:22:22.420301Z",
     "start_time": "2023-04-11T10:22:22.415883Z"
    }
   },
   "outputs": [
    {
     "name": "stdout",
     "output_type": "stream",
     "text": [
      "Vector:  tf.Tensor([10 10], shape=(2,), dtype=int32)\n",
      "Number of dimensions:  1\n"
     ]
    }
   ],
   "source": [
    "# Create a vector (more than 1 dimension)\n",
    "\n",
    "vector = tf.constant([10, 10])\n",
    "\n",
    "# Check the dimension of our vector\n",
    "ndim = vector.ndim\n",
    "\n",
    "print(\"Vector: \", vector)\n",
    "print(\"Number of dimensions: \", ndim)"
   ]
  },
  {
   "cell_type": "code",
   "execution_count": 4,
   "metadata": {},
   "outputs": [
    {
     "name": "stdout",
     "output_type": "stream",
     "text": [
      "Matrix:  tf.Tensor(\n",
      "[[10  7]\n",
      " [ 7 10]], shape=(2, 2), dtype=int32)\n",
      "Number of dimensions:  2\n"
     ]
    }
   ],
   "source": [
    "# Create a matrix (has more than one dimension)\n",
    "matrix = tf.constant([[10, 7],\n",
    "                      [7, 10]])\n",
    "\n",
    "# Check the dimension of our matrix\n",
    "ndim = matrix.ndim\n",
    "\n",
    "print(\"Matrix: \", matrix)\n",
    "print(\"Number of dimensions: \", ndim)"
   ]
  },
  {
   "cell_type": "code",
   "execution_count": 5,
   "metadata": {
    "ExecuteTime": {
     "end_time": "2023-04-11T10:22:26.338058Z",
     "start_time": "2023-04-11T10:22:26.333650Z"
    }
   },
   "outputs": [
    {
     "name": "stdout",
     "output_type": "stream",
     "text": [
      "Matrix:  tf.Tensor(\n",
      "[[10.  7.]\n",
      " [ 3.  2.]\n",
      " [ 8.  9.]], shape=(3, 2), dtype=float16)\n",
      "Number of dimensions:  2\n"
     ]
    }
   ],
   "source": [
    "# Create another matrix\n",
    "another_matrix = tf.constant([[10., 7.],\n",
    "                              [3., 2.],\n",
    "                              [8., 9.]], dtype=tf.float16) # specify the data type with dtype parameter\n",
    "\n",
    "# Check the dimension of our matrix\n",
    "ndim = another_matrix.ndim\n",
    "\n",
    "print(\"Matrix: \", another_matrix)\n",
    "print(\"Number of dimensions: \", ndim)"
   ]
  },
  {
   "cell_type": "code",
   "execution_count": 6,
   "metadata": {
    "ExecuteTime": {
     "end_time": "2023-04-11T10:22:28.949821Z",
     "start_time": "2023-04-11T10:22:28.880852Z"
    }
   },
   "outputs": [
    {
     "name": "stdout",
     "output_type": "stream",
     "text": [
      "Tensor:  tf.Tensor(\n",
      "[[[ 1  2  3  4]\n",
      "  [ 5  6  7  8]\n",
      "  [ 9 10 11 12]]\n",
      "\n",
      " [[13 14 15 16]\n",
      "  [17 18 19 20]\n",
      "  [21 22 23 24]]\n",
      "\n",
      " [[25 26 27 28]\n",
      "  [29 30 31 32]\n",
      "  [33 34 35 36]]], shape=(3, 3, 4), dtype=int32)\n",
      "Number of dimensions:  3\n"
     ]
    }
   ],
   "source": [
    "# Let's create a tensor\n",
    "tensor = tf.constant([[[1, 2, 3, 4],\n",
    "                       [5, 6, 7, 8],\n",
    "                       [9, 10, 11, 12]],\n",
    "\n",
    "                      [[13, 14, 15, 16],\n",
    "                       [17, 18, 19, 20],\n",
    "                       [21, 22, 23, 24]],\n",
    "\n",
    "                      [[25, 26, 27, 28],\n",
    "                       [29, 30, 31, 32],\n",
    "                       [33, 34, 35, 36]]])\n",
    "\n",
    "# Check the dimension of our tensor\n",
    "ndim = tensor.ndim\n",
    "\n",
    "print(\"Tensor: \", tensor)\n",
    "print(\"Number of dimensions: \", ndim)"
   ]
  },
  {
   "cell_type": "code",
   "execution_count": 7,
   "metadata": {
    "ExecuteTime": {
     "end_time": "2023-04-11T10:22:30.730565Z",
     "start_time": "2023-04-11T10:22:30.701260Z"
    }
   },
   "outputs": [
    {
     "data": {
      "text/plain": "                    Shape  dimensions           Data type\nScalar                 ()           0    <dtype: 'int32'>\nVector                (2)           1    <dtype: 'int32'>\nMatrix             (2, 2)           2    <dtype: 'int32'>\nAnother matrix     (3, 2)           2  <dtype: 'float16'>\nTensor          (3, 3, 4)           3    <dtype: 'int32'>",
      "text/html": "<div>\n<style scoped>\n    .dataframe tbody tr th:only-of-type {\n        vertical-align: middle;\n    }\n\n    .dataframe tbody tr th {\n        vertical-align: top;\n    }\n\n    .dataframe thead th {\n        text-align: right;\n    }\n</style>\n<table border=\"1\" class=\"dataframe\">\n  <thead>\n    <tr style=\"text-align: right;\">\n      <th></th>\n      <th>Shape</th>\n      <th>dimensions</th>\n      <th>Data type</th>\n    </tr>\n  </thead>\n  <tbody>\n    <tr>\n      <th>Scalar</th>\n      <td>()</td>\n      <td>0</td>\n      <td>&lt;dtype: 'int32'&gt;</td>\n    </tr>\n    <tr>\n      <th>Vector</th>\n      <td>(2)</td>\n      <td>1</td>\n      <td>&lt;dtype: 'int32'&gt;</td>\n    </tr>\n    <tr>\n      <th>Matrix</th>\n      <td>(2, 2)</td>\n      <td>2</td>\n      <td>&lt;dtype: 'int32'&gt;</td>\n    </tr>\n    <tr>\n      <th>Another matrix</th>\n      <td>(3, 2)</td>\n      <td>2</td>\n      <td>&lt;dtype: 'float16'&gt;</td>\n    </tr>\n    <tr>\n      <th>Tensor</th>\n      <td>(3, 3, 4)</td>\n      <td>3</td>\n      <td>&lt;dtype: 'int32'&gt;</td>\n    </tr>\n  </tbody>\n</table>\n</div>"
     },
     "execution_count": 7,
     "metadata": {},
     "output_type": "execute_result"
    }
   ],
   "source": [
    "# now use pandas to print the same information\n",
    "df = pd.DataFrame({\"Shape\": [scalar.shape, vector.shape, matrix.shape, another_matrix.shape, tensor.shape],\n",
    "                   \"dimensions\": [scalar.ndim, vector.ndim, matrix.ndim, another_matrix.ndim, tensor.ndim],\n",
    "                   \"Data type\": [scalar.dtype, vector.dtype, matrix.dtype, another_matrix.dtype, tensor.dtype]},\n",
    "                  index=[\"Scalar\", \"Vector\", \"Matrix\", \"Another matrix\", \"Tensor\"])\n",
    "\n",
    "df"
   ]
  },
  {
   "cell_type": "markdown",
   "source": [
    "## Summary so far\n",
    "* Scalar: a single number\n",
    "* Vector: a number with direction (e.g. wind speed and direction)\n",
    "* Matrix: a 2-dimensional array of numbers\n",
    "* Tensor: an n-dimensional array of numbers (where n can be any number, a 0-dimensional tensor is a scalar, a 1-dimensional tensor is a vector)"
   ],
   "metadata": {
    "collapsed": false
   }
  },
  {
   "cell_type": "markdown",
   "source": [
    "### Creating tensors with `tf.Variable`"
   ],
   "metadata": {
    "collapsed": false
   }
  },
  {
   "cell_type": "code",
   "execution_count": 8,
   "outputs": [
    {
     "name": "stdout",
     "output_type": "stream",
     "text": [
      "Changeable tensor:  <tf.Variable 'Variable:0' shape=(2,) dtype=int32, numpy=array([10,  7], dtype=int32)>\n",
      "Unchangeable Tensor:  tf.Tensor([10  7], shape=(2,), dtype=int32)\n"
     ]
    }
   ],
   "source": [
    "# Create the same tensor with tf.Variable() as above\n",
    "changeable_tensor = tf.Variable([10, 7])\n",
    "unchangeable_tensor = tf.constant([10,7])\n",
    "\n",
    "print(\"Changeable tensor: \", changeable_tensor)\n",
    "print(\"Unchangeable Tensor: \",unchangeable_tensor)"
   ],
   "metadata": {
    "collapsed": false
   }
  },
  {
   "cell_type": "code",
   "execution_count": 9,
   "outputs": [
    {
     "data": {
      "text/plain": "<tf.Variable 'Variable:0' shape=(2,) dtype=int32, numpy=array([1, 7], dtype=int32)>"
     },
     "execution_count": 9,
     "metadata": {},
     "output_type": "execute_result"
    }
   ],
   "source": [
    "# let's try to change the element in out changeable tensor\n",
    "changeable_tensor[0].assign(1)\n",
    "changeable_tensor"
   ],
   "metadata": {
    "collapsed": false
   }
  },
  {
   "cell_type": "code",
   "execution_count": 10,
   "outputs": [],
   "source": [
    "# Let's try to assign our unchangeable tensor\n",
    "# unchangeable_tensor[0].assign[1]\n",
    "\n",
    "# This will result in error as tensor created using tf.constant can not be changed later on in the code."
   ],
   "metadata": {
    "collapsed": false
   }
  },
  {
   "cell_type": "markdown",
   "source": [
    "🔑 Note: it will be rare that you will have to decided weather to use tf.Variable or tf.constant to create a tensor as Tensorflow will do this for you. If you need to decide what to use, then it is safe to go with tf.donstant to prevent accidentally modifying the tensor later on in the code without realization which might cause trouble."
   ],
   "metadata": {
    "collapsed": false
   }
  },
  {
   "cell_type": "markdown",
   "source": [
    "##  Create Random Tensor\n",
    "\n",
    "As the name suggest, these are tensor of some size with random number."
   ],
   "metadata": {
    "collapsed": false
   }
  },
  {
   "cell_type": "code",
   "execution_count": 11,
   "outputs": [
    {
     "name": "stdout",
     "output_type": "stream",
     "text": [
      "Random tensor 1:  tf.Tensor(\n",
      "[[-0.7565803  -0.06854702  0.07595026]\n",
      " [-1.2573844  -0.23193763 -1.8107855 ]\n",
      " [ 0.09988727 -0.50998646 -0.7535805 ]\n",
      " [-0.57166284  0.1480774  -0.23362993]\n",
      " [-0.3522796   0.40621263 -1.0523509 ]], shape=(5, 3), dtype=float32)\n",
      "\n",
      "Random tensor 2:  tf.Tensor(\n",
      "[[-0.7565803  -0.06854702  0.07595026]\n",
      " [-1.2573844  -0.23193763 -1.8107855 ]\n",
      " [ 0.09988727 -0.50998646 -0.7535805 ]\n",
      " [-0.57166284  0.1480774  -0.23362993]\n",
      " [-0.3522796   0.40621263 -1.0523509 ]], shape=(5, 3), dtype=float32)\n"
     ]
    },
    {
     "data": {
      "text/plain": "<tf.Tensor: shape=(5, 3), dtype=bool, numpy=\narray([[ True,  True,  True],\n       [ True,  True,  True],\n       [ True,  True,  True],\n       [ True,  True,  True],\n       [ True,  True,  True]])>"
     },
     "execution_count": 11,
     "metadata": {},
     "output_type": "execute_result"
    }
   ],
   "source": [
    "# let's create two random (but the same) tensor\n",
    "\n",
    "random_1 = tf.random.Generator.from_seed(42)\n",
    "random_1 = random_1.normal(shape = (5,3))\n",
    "\n",
    "random_2 =  tf.random.Generator.from_seed(42)\n",
    "random_2 = random_2.normal(shape = (5,3))\n",
    "\n",
    "print(\"Random tensor 1: \", random_1)\n",
    "print()\n",
    "print(\"Random tensor 2: \", random_2)\n",
    "\n",
    "# Are they equal?\n",
    "random_1 == random_2\n",
    "\n",
    "# use if/else to check if they are equal\n",
    "random_1 == random_2"
   ],
   "metadata": {
    "collapsed": false
   }
  },
  {
   "cell_type": "code",
   "execution_count": 12,
   "outputs": [
    {
     "data": {
      "text/plain": "<tf.Tensor: shape=(3, 2), dtype=int32, numpy=\narray([[ 2,  5],\n       [10,  7],\n       [ 3,  4]], dtype=int32)>"
     },
     "execution_count": 12,
     "metadata": {},
     "output_type": "execute_result"
    }
   ],
   "source": [
    "# let's shuffle our random tensor\n",
    "not_shuffled = tf.constant([[10, 7],\n",
    "                             [3, 4],\n",
    "                             [2, 5]])\n",
    "\n",
    "# shuffle our non-shuffled tensor\n",
    "tf.random.shuffle(not_shuffled)"
   ],
   "metadata": {
    "collapsed": false
   }
  }
 ],
 "metadata": {
  "kernelspec": {
   "display_name": "Python 3.10 (tensorflow)",
   "language": "python",
   "name": "tensorflow"
  },
  "language_info": {
   "codemirror_mode": {
    "name": "ipython",
    "version": 3
   },
   "file_extension": ".py",
   "mimetype": "text/x-python",
   "name": "python",
   "nbconvert_exporter": "python",
   "pygments_lexer": "ipython3",
   "version": "3.10.10"
  }
 },
 "nbformat": 4,
 "nbformat_minor": 4
}
