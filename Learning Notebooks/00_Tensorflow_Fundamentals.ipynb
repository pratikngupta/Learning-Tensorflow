{
 "cells": [
  {
   "cell_type": "markdown",
   "metadata": {},
   "source": [
    "# Introduction to Tensorflow 2.0\n",
    "\n",
    "In this notebook we are going to cover the fundamentals concepts of tensor using TensorFlow 2.0.\n",
    "\n",
    "\n",
    "What is a tensor?\n",
    "A tensor is a generalization of vectors and matrices to potentially higher dimensions. Internally, TensorFlow represents tensors as n-dimensional arrays of base datatypes.\n",
    "\n",
    "\n",
    "What is TensorFlow?\n",
    "TensorFlow is an open source software library for numerical computation using data flow graphs. Nodes in the graph represent mathematical operations, while the graph edges represent the multidimensional data arrays (tensors) communicated between them. The flexible architecture allows you to deploy computation to one or more CPUs or GPUs in a desktop, server, or mobile device with a single API. TensorFlow was originally developed by researchers and engineers working on the Google Brain team within Google's Machine Intelligence research organization for the purposes of conducting machine learning and deep neural networks research, but the system is general enough to be applicable in a wide variety of other domains as well.\n",
    "\n",
    "\n",
    "\n",
    "Concepts covered in this notebook\n",
    "* Introduction to Tensor\n",
    "* Getting information from tensors\n",
    "* Manipulating tensors\n",
    "* Tensors and Numpy\n",
    "* Using @tf.function (a way to speed up your regular Python functions)\n",
    "* Using GPUs with TensorFlow (or TPUs)\n",
    "* Exercises to try for yourself!"
   ]
  },
  {
   "cell_type": "markdown",
   "metadata": {},
   "source": [
    "## Introduction to tensors"
   ]
  },
  {
   "cell_type": "code",
   "execution_count": 1,
   "metadata": {
    "ExecuteTime": {
     "end_time": "2023-05-23T18:43:27.419428Z",
     "start_time": "2023-05-23T18:43:24.444559Z"
    }
   },
   "outputs": [
    {
     "name": "stdout",
     "output_type": "stream",
     "text": [
      "TensorFlow version:  2.12.0\n",
      "NumPy version:  1.23.5\n",
      "Pandas version:  1.5.3\n"
     ]
    }
   ],
   "source": [
    "# Import TensorFlow and other libraries\n",
    "import tensorflow as tf\n",
    "import numpy as np\n",
    "import pandas as pd\n",
    "\n",
    "# Check the version of TensorFlow and other libraries\n",
    "print(\"TensorFlow version: \", tf.__version__)\n",
    "print(\"NumPy version: \", np.__version__)\n",
    "print(\"Pandas version: \", pd.__version__)"
   ]
  },
  {
   "cell_type": "code",
   "execution_count": 2,
   "metadata": {
    "ExecuteTime": {
     "end_time": "2023-05-23T18:43:27.432753Z",
     "start_time": "2023-05-23T18:43:27.427880Z"
    }
   },
   "outputs": [
    {
     "name": "stdout",
     "output_type": "stream",
     "text": [
      "Scalar:  tf.Tensor(10, shape=(), dtype=int32)\n",
      "Number of dimensions:  0\n"
     ]
    }
   ],
   "source": [
    "# creating tensors with tf.constant()\n",
    "\n",
    "scalar = tf.constant(10)\n",
    "\n",
    "# Check the number of dimensions of a tensor (ndim stands for number of dimensions)\n",
    "ndim = scalar.ndim\n",
    "\n",
    "print(\"Scalar: \", scalar)\n",
    "print(\"Number of dimensions: \", ndim)"
   ]
  },
  {
   "cell_type": "code",
   "execution_count": 3,
   "metadata": {
    "ExecuteTime": {
     "end_time": "2023-05-23T18:43:27.437834Z",
     "start_time": "2023-05-23T18:43:27.433404Z"
    }
   },
   "outputs": [
    {
     "name": "stdout",
     "output_type": "stream",
     "text": [
      "Vector:  tf.Tensor([10 10], shape=(2,), dtype=int32)\n",
      "Number of dimensions:  1\n"
     ]
    }
   ],
   "source": [
    "# Create a vector (more than 1 dimension)\n",
    "\n",
    "vector = tf.constant([10, 10])\n",
    "\n",
    "# Check the dimension of our vector\n",
    "ndim = vector.ndim\n",
    "\n",
    "print(\"Vector: \", vector)\n",
    "print(\"Number of dimensions: \", ndim)"
   ]
  },
  {
   "cell_type": "code",
   "execution_count": 4,
   "metadata": {
    "ExecuteTime": {
     "end_time": "2023-05-23T18:43:27.504519Z",
     "start_time": "2023-05-23T18:43:27.447440Z"
    }
   },
   "outputs": [
    {
     "name": "stdout",
     "output_type": "stream",
     "text": [
      "Matrix:  tf.Tensor(\n",
      "[[10  7]\n",
      " [ 7 10]], shape=(2, 2), dtype=int32)\n",
      "Number of dimensions:  2\n"
     ]
    }
   ],
   "source": [
    "# Create a matrix (has more than one dimension)\n",
    "matrix = tf.constant([[10, 7],\n",
    "                      [7, 10]])\n",
    "\n",
    "# Check the dimension of our matrix\n",
    "ndim = matrix.ndim\n",
    "\n",
    "print(\"Matrix: \", matrix)\n",
    "print(\"Number of dimensions: \", ndim)"
   ]
  },
  {
   "cell_type": "code",
   "execution_count": 5,
   "metadata": {
    "ExecuteTime": {
     "end_time": "2023-05-23T18:43:27.505302Z",
     "start_time": "2023-05-23T18:43:27.459023Z"
    }
   },
   "outputs": [
    {
     "name": "stdout",
     "output_type": "stream",
     "text": [
      "Matrix:  tf.Tensor(\n",
      "[[10.  7.]\n",
      " [ 3.  2.]\n",
      " [ 8.  9.]], shape=(3, 2), dtype=float16)\n",
      "Number of dimensions:  2\n"
     ]
    }
   ],
   "source": [
    "# Create another matrix\n",
    "another_matrix = tf.constant([[10., 7.],\n",
    "                              [3., 2.],\n",
    "                              [8., 9.]], dtype=tf.float16) # specify the data type with dtype parameter\n",
    "\n",
    "# Check the dimension of our matrix\n",
    "ndim = another_matrix.ndim\n",
    "\n",
    "print(\"Matrix: \", another_matrix)\n",
    "print(\"Number of dimensions: \", ndim)"
   ]
  },
  {
   "cell_type": "code",
   "execution_count": 6,
   "metadata": {
    "ExecuteTime": {
     "end_time": "2023-05-23T18:43:27.505883Z",
     "start_time": "2023-05-23T18:43:27.469948Z"
    }
   },
   "outputs": [
    {
     "name": "stdout",
     "output_type": "stream",
     "text": [
      "Tensor:  tf.Tensor(\n",
      "[[[ 1  2  3  4]\n",
      "  [ 5  6  7  8]\n",
      "  [ 9 10 11 12]]\n",
      "\n",
      " [[13 14 15 16]\n",
      "  [17 18 19 20]\n",
      "  [21 22 23 24]]\n",
      "\n",
      " [[25 26 27 28]\n",
      "  [29 30 31 32]\n",
      "  [33 34 35 36]]], shape=(3, 3, 4), dtype=int32)\n",
      "Number of dimensions:  3\n"
     ]
    }
   ],
   "source": [
    "# Let's create a tensor\n",
    "tensor = tf.constant([[[1, 2, 3, 4],\n",
    "                       [5, 6, 7, 8],\n",
    "                       [9, 10, 11, 12]],\n",
    "\n",
    "                      [[13, 14, 15, 16],\n",
    "                       [17, 18, 19, 20],\n",
    "                       [21, 22, 23, 24]],\n",
    "\n",
    "                      [[25, 26, 27, 28],\n",
    "                       [29, 30, 31, 32],\n",
    "                       [33, 34, 35, 36]]])\n",
    "\n",
    "# Check the dimension of our tensor\n",
    "ndim = tensor.ndim\n",
    "\n",
    "print(\"Tensor: \", tensor)\n",
    "print(\"Number of dimensions: \", ndim)"
   ]
  },
  {
   "cell_type": "code",
   "execution_count": 7,
   "metadata": {
    "ExecuteTime": {
     "end_time": "2023-05-23T18:43:27.520233Z",
     "start_time": "2023-05-23T18:43:27.483357Z"
    }
   },
   "outputs": [
    {
     "data": {
      "text/plain": "                    Shape  dimensions           Data type\nScalar                 ()           0    <dtype: 'int32'>\nVector                (2)           1    <dtype: 'int32'>\nMatrix             (2, 2)           2    <dtype: 'int32'>\nAnother matrix     (3, 2)           2  <dtype: 'float16'>\nTensor          (3, 3, 4)           3    <dtype: 'int32'>",
      "text/html": "<div>\n<style scoped>\n    .dataframe tbody tr th:only-of-type {\n        vertical-align: middle;\n    }\n\n    .dataframe tbody tr th {\n        vertical-align: top;\n    }\n\n    .dataframe thead th {\n        text-align: right;\n    }\n</style>\n<table border=\"1\" class=\"dataframe\">\n  <thead>\n    <tr style=\"text-align: right;\">\n      <th></th>\n      <th>Shape</th>\n      <th>dimensions</th>\n      <th>Data type</th>\n    </tr>\n  </thead>\n  <tbody>\n    <tr>\n      <th>Scalar</th>\n      <td>()</td>\n      <td>0</td>\n      <td>&lt;dtype: 'int32'&gt;</td>\n    </tr>\n    <tr>\n      <th>Vector</th>\n      <td>(2)</td>\n      <td>1</td>\n      <td>&lt;dtype: 'int32'&gt;</td>\n    </tr>\n    <tr>\n      <th>Matrix</th>\n      <td>(2, 2)</td>\n      <td>2</td>\n      <td>&lt;dtype: 'int32'&gt;</td>\n    </tr>\n    <tr>\n      <th>Another matrix</th>\n      <td>(3, 2)</td>\n      <td>2</td>\n      <td>&lt;dtype: 'float16'&gt;</td>\n    </tr>\n    <tr>\n      <th>Tensor</th>\n      <td>(3, 3, 4)</td>\n      <td>3</td>\n      <td>&lt;dtype: 'int32'&gt;</td>\n    </tr>\n  </tbody>\n</table>\n</div>"
     },
     "execution_count": 7,
     "metadata": {},
     "output_type": "execute_result"
    }
   ],
   "source": [
    "# now use pandas to print the same information\n",
    "df = pd.DataFrame({\"Shape\": [scalar.shape, vector.shape, matrix.shape, another_matrix.shape, tensor.shape],\n",
    "                   \"dimensions\": [scalar.ndim, vector.ndim, matrix.ndim, another_matrix.ndim, tensor.ndim],\n",
    "                   \"Data type\": [scalar.dtype, vector.dtype, matrix.dtype, another_matrix.dtype, tensor.dtype]},\n",
    "                  index=[\"Scalar\", \"Vector\", \"Matrix\", \"Another matrix\", \"Tensor\"])\n",
    "\n",
    "df"
   ]
  },
  {
   "cell_type": "markdown",
   "metadata": {},
   "source": [
    "## Summary so far\n",
    "* Scalar: a single number\n",
    "* Vector: a number with direction (e.g. wind speed and direction)\n",
    "* Matrix: a 2-dimensional array of numbers\n",
    "* Tensor: an n-dimensional array of numbers (where n can be any number, a 0-dimensional tensor is a scalar, a 1-dimensional tensor is a vector)"
   ]
  },
  {
   "cell_type": "markdown",
   "metadata": {},
   "source": [
    "## Creating tensors with `tf.Variable`"
   ]
  },
  {
   "cell_type": "code",
   "execution_count": 8,
   "metadata": {
    "collapsed": false,
    "jupyter": {
     "outputs_hidden": false
    },
    "ExecuteTime": {
     "end_time": "2023-05-23T18:43:27.520827Z",
     "start_time": "2023-05-23T18:43:27.492740Z"
    }
   },
   "outputs": [
    {
     "name": "stdout",
     "output_type": "stream",
     "text": [
      "Changeable tensor:  <tf.Variable 'Variable:0' shape=(2,) dtype=int32, numpy=array([10,  7], dtype=int32)>\n",
      "Unchangeable Tensor:  tf.Tensor([10  7], shape=(2,), dtype=int32)\n"
     ]
    }
   ],
   "source": [
    "# Create the same tensor with tf.Variable() as above\n",
    "changeable_tensor = tf.Variable([10, 7])\n",
    "unchangeable_tensor = tf.constant([10,7])\n",
    "\n",
    "print(\"Changeable tensor: \", changeable_tensor)\n",
    "print(\"Unchangeable Tensor: \",unchangeable_tensor)"
   ]
  },
  {
   "cell_type": "code",
   "execution_count": 9,
   "metadata": {
    "collapsed": false,
    "jupyter": {
     "outputs_hidden": false
    },
    "ExecuteTime": {
     "end_time": "2023-05-23T18:43:27.578140Z",
     "start_time": "2023-05-23T18:43:27.512687Z"
    }
   },
   "outputs": [
    {
     "data": {
      "text/plain": "<tf.Variable 'Variable:0' shape=(2,) dtype=int32, numpy=array([1, 7], dtype=int32)>"
     },
     "execution_count": 9,
     "metadata": {},
     "output_type": "execute_result"
    }
   ],
   "source": [
    "# let's try to change the element in out changeable tensor\n",
    "changeable_tensor[0].assign(1)\n",
    "changeable_tensor"
   ]
  },
  {
   "cell_type": "code",
   "execution_count": 10,
   "metadata": {
    "collapsed": false,
    "jupyter": {
     "outputs_hidden": false
    },
    "ExecuteTime": {
     "end_time": "2023-05-23T18:43:27.585594Z",
     "start_time": "2023-05-23T18:43:27.521327Z"
    }
   },
   "outputs": [],
   "source": [
    "# Let's try to assign our unchangeable tensor\n",
    "# unchangeable_tensor[0].assign[1]\n",
    "\n",
    "# This will result in error as tensor created using tf.constant can not be changed later on in the code."
   ]
  },
  {
   "cell_type": "markdown",
   "metadata": {},
   "source": [
    "🔑 Note: it will be rare that you will have to decided weather to use tf.Variable or tf. Constant to create a tensor as Tensorflow will do this for you. If you need to decide what to use, then it is safe to go with tf.donstant to prevent accidentally modifying the tensor later on in the code without realization which might cause trouble."
   ]
  },
  {
   "cell_type": "markdown",
   "metadata": {},
   "source": [
    "##  Create Random Tensor\n",
    "\n",
    "As the name suggest, these are tensor of some size with random number."
   ]
  },
  {
   "cell_type": "code",
   "execution_count": 11,
   "metadata": {
    "collapsed": false,
    "jupyter": {
     "outputs_hidden": false
    },
    "ExecuteTime": {
     "end_time": "2023-05-23T18:43:27.586943Z",
     "start_time": "2023-05-23T18:43:27.526986Z"
    }
   },
   "outputs": [
    {
     "name": "stdout",
     "output_type": "stream",
     "text": [
      "Random tensor 1:  tf.Tensor(\n",
      "[[-0.7565803  -0.06854702  0.07595026]\n",
      " [-1.2573844  -0.23193763 -1.8107855 ]\n",
      " [ 0.09988727 -0.50998646 -0.7535805 ]\n",
      " [-0.57166284  0.1480774  -0.23362993]\n",
      " [-0.3522796   0.40621263 -1.0523509 ]], shape=(5, 3), dtype=float32)\n",
      "\n",
      "Random tensor 2:  tf.Tensor(\n",
      "[[-0.7565803  -0.06854702  0.07595026]\n",
      " [-1.2573844  -0.23193763 -1.8107855 ]\n",
      " [ 0.09988727 -0.50998646 -0.7535805 ]\n",
      " [-0.57166284  0.1480774  -0.23362993]\n",
      " [-0.3522796   0.40621263 -1.0523509 ]], shape=(5, 3), dtype=float32)\n"
     ]
    },
    {
     "data": {
      "text/plain": "<tf.Tensor: shape=(5, 3), dtype=bool, numpy=\narray([[ True,  True,  True],\n       [ True,  True,  True],\n       [ True,  True,  True],\n       [ True,  True,  True],\n       [ True,  True,  True]])>"
     },
     "execution_count": 11,
     "metadata": {},
     "output_type": "execute_result"
    }
   ],
   "source": [
    "# let's create two random (but the same) tensor\n",
    "\n",
    "random_1 = tf.random.Generator.from_seed(42)\n",
    "random_1 = random_1.normal(shape = (5,3))\n",
    "\n",
    "random_2 =  tf.random.Generator.from_seed(42)\n",
    "random_2 = random_2.normal(shape = (5,3))\n",
    "\n",
    "print(\"Random tensor 1: \", random_1)\n",
    "print()\n",
    "print(\"Random tensor 2: \", random_2)\n",
    "\n",
    "# use if/else to check if they are equal\n",
    "random_1 == random_2"
   ]
  },
  {
   "cell_type": "code",
   "execution_count": 12,
   "metadata": {
    "collapsed": false,
    "jupyter": {
     "outputs_hidden": false
    },
    "ExecuteTime": {
     "end_time": "2023-05-23T18:43:27.641599Z",
     "start_time": "2023-05-23T18:43:27.553996Z"
    }
   },
   "outputs": [
    {
     "data": {
      "text/plain": "<tf.Tensor: shape=(3, 2), dtype=int32, numpy=\narray([[ 3,  4],\n       [10,  7],\n       [ 2,  5]], dtype=int32)>"
     },
     "execution_count": 12,
     "metadata": {},
     "output_type": "execute_result"
    }
   ],
   "source": [
    "# let's shuffle our random tensor\n",
    "not_shuffled = tf.constant([[10, 7],\n",
    "                             [3, 4],\n",
    "                             [2, 5]])\n",
    "\n",
    "# shuffle our non-shuffled tensor\n",
    "tf.random.shuffle(not_shuffled)"
   ]
  },
  {
   "cell_type": "code",
   "execution_count": 13,
   "metadata": {
    "collapsed": false,
    "jupyter": {
     "outputs_hidden": false
    },
    "ExecuteTime": {
     "end_time": "2023-05-23T18:43:27.642251Z",
     "start_time": "2023-05-23T18:43:27.563596Z"
    }
   },
   "outputs": [
    {
     "data": {
      "text/plain": "<tf.Tensor: shape=(3, 2), dtype=int32, numpy=\narray([[ 2,  5],\n       [ 3,  4],\n       [10,  7]], dtype=int32)>"
     },
     "execution_count": 13,
     "metadata": {},
     "output_type": "execute_result"
    }
   ],
   "source": [
    "\n",
    "# Shuffle in the same order every time using the seed parameter (won't acutally be the same)\n",
    "tf.random.shuffle(not_shuffled, seed=42)"
   ]
  },
  {
   "cell_type": "code",
   "execution_count": 14,
   "metadata": {
    "collapsed": false,
    "jupyter": {
     "outputs_hidden": false
    },
    "ExecuteTime": {
     "end_time": "2023-05-23T18:43:27.642491Z",
     "start_time": "2023-05-23T18:43:27.571037Z"
    }
   },
   "outputs": [
    {
     "data": {
      "text/plain": "<tf.Tensor: shape=(3, 2), dtype=int32, numpy=\narray([[10,  7],\n       [ 3,  4],\n       [ 2,  5]], dtype=int32)>"
     },
     "execution_count": 14,
     "metadata": {},
     "output_type": "execute_result"
    }
   ],
   "source": [
    "\n",
    "# Set the global random seed\n",
    "tf.random.set_seed(42)\n",
    "\n",
    "# Set the operation rando`m seed\n",
    "tf.random.shuffle(not_shuffled, seed=42)"
   ]
  },
  {
   "cell_type": "markdown",
   "metadata": {},
   "source": [
    "## Other ways to make tensors\n",
    "\n",
    "We have seen tf.constant(), tf.Variable() and tf.random.Generator.from_seed() but there are many other ways to make tensors.\n",
    "\n",
    "For example, you can use:\n",
    "* `tf.ones()` - create a tensor of all ones\n",
    "* `tf.zeros()` - create a tensor of all zeros\n",
    "* `tf.range()` - create a tensor with range of values\n",
    "\n",
    "You can learn more about tensor operations here: https://www.tensorflow.org/api_docs/python/tf"
   ]
  },
  {
   "cell_type": "code",
   "execution_count": 15,
   "metadata": {
    "collapsed": false,
    "jupyter": {
     "outputs_hidden": false
    },
    "ExecuteTime": {
     "end_time": "2023-05-23T18:43:27.642748Z",
     "start_time": "2023-05-23T18:43:27.577815Z"
    }
   },
   "outputs": [
    {
     "data": {
      "text/plain": "<tf.Tensor: shape=(10, 7), dtype=float32, numpy=\narray([[1., 1., 1., 1., 1., 1., 1.],\n       [1., 1., 1., 1., 1., 1., 1.],\n       [1., 1., 1., 1., 1., 1., 1.],\n       [1., 1., 1., 1., 1., 1., 1.],\n       [1., 1., 1., 1., 1., 1., 1.],\n       [1., 1., 1., 1., 1., 1., 1.],\n       [1., 1., 1., 1., 1., 1., 1.],\n       [1., 1., 1., 1., 1., 1., 1.],\n       [1., 1., 1., 1., 1., 1., 1.],\n       [1., 1., 1., 1., 1., 1., 1.]], dtype=float32)>"
     },
     "execution_count": 15,
     "metadata": {},
     "output_type": "execute_result"
    }
   ],
   "source": [
    "# Create a tensor of all ones\n",
    "# format tf.ones(shape)\n",
    "tf.ones([10, 7])"
   ]
  },
  {
   "cell_type": "code",
   "execution_count": 16,
   "metadata": {
    "collapsed": false,
    "jupyter": {
     "outputs_hidden": false
    },
    "ExecuteTime": {
     "end_time": "2023-05-23T18:43:27.643005Z",
     "start_time": "2023-05-23T18:43:27.582915Z"
    }
   },
   "outputs": [
    {
     "data": {
      "text/plain": "<tf.Tensor: shape=(3, 4), dtype=float32, numpy=\narray([[0., 0., 0., 0.],\n       [0., 0., 0., 0.],\n       [0., 0., 0., 0.]], dtype=float32)>"
     },
     "execution_count": 16,
     "metadata": {},
     "output_type": "execute_result"
    }
   ],
   "source": [
    "# Create a tensor of all zeros\n",
    "# format tf.zeros(shape)\n",
    "tf.zeros(shape=(3, 4))"
   ]
  },
  {
   "cell_type": "code",
   "execution_count": 17,
   "metadata": {
    "collapsed": false,
    "jupyter": {
     "outputs_hidden": false
    },
    "ExecuteTime": {
     "end_time": "2023-05-23T18:43:27.783012Z",
     "start_time": "2023-05-23T18:43:27.591699Z"
    }
   },
   "outputs": [
    {
     "data": {
      "text/plain": "<tf.Tensor: shape=(50,), dtype=int32, numpy=\narray([  0,  10,  20,  30,  40,  50,  60,  70,  80,  90, 100, 110, 120,\n       130, 140, 150, 160, 170, 180, 190, 200, 210, 220, 230, 240, 250,\n       260, 270, 280, 290, 300, 310, 320, 330, 340, 350, 360, 370, 380,\n       390, 400, 410, 420, 430, 440, 450, 460, 470, 480, 490], dtype=int32)>"
     },
     "execution_count": 17,
     "metadata": {},
     "output_type": "execute_result"
    }
   ],
   "source": [
    "# Create a tensor with a range of values\n",
    "# format tf.range(start, limit, delta)\n",
    "tf.range(start=0, limit=500, delta=10)"
   ]
  },
  {
   "cell_type": "markdown",
   "source": [
    "## Turn NumPy arrays into tensors\n",
    "\n",
    "Why would you want to turn a NumPy array into a tensor? So you can leverage the benefits of TensorFlow during modelling.\n",
    "\n",
    "The main difference between NumPy arrays and TensorFlow tensors is that tensors can be run on a GPU (much faster for numerical computing).\n",
    "\n",
    "🔑 **Note:** One of the most common ways to convert data into tensors is to turn it into NumPy array first.\n"
   ],
   "metadata": {
    "collapsed": false
   }
  },
  {
   "cell_type": "code",
   "execution_count": 18,
   "outputs": [
    {
     "data": {
      "text/plain": "array([ 1,  2,  3,  4,  5,  6,  7,  8,  9, 10, 11, 12, 13, 14, 15, 16, 17,\n       18, 19, 20, 21, 22, 23, 24], dtype=int32)"
     },
     "execution_count": 18,
     "metadata": {},
     "output_type": "execute_result"
    }
   ],
   "source": [
    "# You can also turn NumPy arrays into tensors\n",
    "numpy_A = np.arange(1, 25, dtype=np.int32) # create a NumPy array between 1 and 25\n",
    "\n",
    "numpy_A"
   ],
   "metadata": {
    "collapsed": false,
    "ExecuteTime": {
     "end_time": "2023-05-23T18:43:27.902193Z",
     "start_time": "2023-05-23T18:43:27.603603Z"
    }
   }
  },
  {
   "cell_type": "code",
   "execution_count": 19,
   "outputs": [
    {
     "data": {
      "text/plain": "(<tf.Tensor: shape=(3, 8), dtype=int32, numpy=\n array([[ 1,  2,  3,  4,  5,  6,  7,  8],\n        [ 9, 10, 11, 12, 13, 14, 15, 16],\n        [17, 18, 19, 20, 21, 22, 23, 24]], dtype=int32)>,\n <tf.Tensor: shape=(24,), dtype=int32, numpy=\n array([ 1,  2,  3,  4,  5,  6,  7,  8,  9, 10, 11, 12, 13, 14, 15, 16, 17,\n        18, 19, 20, 21, 22, 23, 24], dtype=int32)>)"
     },
     "execution_count": 19,
     "metadata": {},
     "output_type": "execute_result"
    }
   ],
   "source": [
    "A = tf.constant(numpy_A, shape=(3, 8))\n",
    "B = tf.constant(numpy_A)\n",
    "A, B"
   ],
   "metadata": {
    "collapsed": false,
    "ExecuteTime": {
     "end_time": "2023-05-23T18:43:27.909037Z",
     "start_time": "2023-05-23T18:43:27.619164Z"
    }
   }
  },
  {
   "cell_type": "markdown",
   "source": [
    "## Getting information from tensors\n",
    "\n",
    "When dealing with tensors you probably want to be aware of the following attributes:\n",
    "* Shape\n",
    "* Rank\n",
    "* Axis or dimension\n",
    "* Size\n",
    "* Element wise\n",
    "* Data type\n",
    "* Device\n",
    "* Tensorflow operation"
   ],
   "metadata": {
    "collapsed": false
   }
  },
  {
   "cell_type": "code",
   "execution_count": 20,
   "outputs": [
    {
     "name": "stdout",
     "output_type": "stream",
     "text": [
      "Rank 4 tensor:  tf.Tensor(\n",
      "[[[[0. 0. 0. 0. 0.]\n",
      "   [0. 0. 0. 0. 0.]\n",
      "   [0. 0. 0. 0. 0.]\n",
      "   [0. 0. 0. 0. 0.]]\n",
      "\n",
      "  [[0. 0. 0. 0. 0.]\n",
      "   [0. 0. 0. 0. 0.]\n",
      "   [0. 0. 0. 0. 0.]\n",
      "   [0. 0. 0. 0. 0.]]\n",
      "\n",
      "  [[0. 0. 0. 0. 0.]\n",
      "   [0. 0. 0. 0. 0.]\n",
      "   [0. 0. 0. 0. 0.]\n",
      "   [0. 0. 0. 0. 0.]]]\n",
      "\n",
      "\n",
      " [[[0. 0. 0. 0. 0.]\n",
      "   [0. 0. 0. 0. 0.]\n",
      "   [0. 0. 0. 0. 0.]\n",
      "   [0. 0. 0. 0. 0.]]\n",
      "\n",
      "  [[0. 0. 0. 0. 0.]\n",
      "   [0. 0. 0. 0. 0.]\n",
      "   [0. 0. 0. 0. 0.]\n",
      "   [0. 0. 0. 0. 0.]]\n",
      "\n",
      "  [[0. 0. 0. 0. 0.]\n",
      "   [0. 0. 0. 0. 0.]\n",
      "   [0. 0. 0. 0. 0.]\n",
      "   [0. 0. 0. 0. 0.]]]], shape=(2, 3, 4, 5), dtype=float32)\n"
     ]
    }
   ],
   "source": [
    "# Create a rank 4 tensor (4 dimensions)\n",
    "rank_4_tensor = tf.zeros(shape=[2, 3, 4, 5])\n",
    "\n",
    "print(\"Rank 4 tensor: \", rank_4_tensor)"
   ],
   "metadata": {
    "collapsed": false,
    "ExecuteTime": {
     "end_time": "2023-05-23T18:43:27.909457Z",
     "start_time": "2023-05-23T18:43:27.620173Z"
    }
   }
  },
  {
   "cell_type": "code",
   "execution_count": 21,
   "outputs": [
    {
     "name": "stdout",
     "output_type": "stream",
     "text": [
      "Datatype of every element:  <dtype: 'float32'>\n",
      "Number of dimensions (rank):  4\n",
      "Shape of tensor:  (2, 3, 4, 5)\n",
      "Elements along the 0 axis:  2\n",
      "Elements along the last axis:  5\n",
      "Total number of elements in our tensor:  tf.Tensor(120, shape=(), dtype=int32)\n",
      "Total number of elements in our tensor:  120\n"
     ]
    }
   ],
   "source": [
    "\n",
    "# Get various attributes of our tensor\n",
    "print(\"Datatype of every element: \", rank_4_tensor.dtype)\n",
    "print(\"Number of dimensions (rank): \", rank_4_tensor.ndim)\n",
    "print(\"Shape of tensor: \", rank_4_tensor.shape)\n",
    "print(\"Elements along the 0 axis: \", rank_4_tensor.shape[0])\n",
    "print(\"Elements along the last axis: \", rank_4_tensor.shape[-1])\n",
    "print(\"Total number of elements in our tensor: \", tf.size(rank_4_tensor))\n",
    "print(\"Total number of elements in our tensor: \", tf.size(rank_4_tensor).numpy())"
   ],
   "metadata": {
    "collapsed": false,
    "ExecuteTime": {
     "end_time": "2023-05-23T18:43:27.909711Z",
     "start_time": "2023-05-23T18:43:27.623783Z"
    }
   }
  },
  {
   "cell_type": "code",
   "execution_count": 21,
   "outputs": [],
   "source": [],
   "metadata": {
    "collapsed": false,
    "ExecuteTime": {
     "end_time": "2023-05-23T18:43:27.909853Z",
     "start_time": "2023-05-23T18:43:27.634306Z"
    }
   }
  }
 ],
 "metadata": {
  "kernelspec": {
   "display_name": "Python 3.10 (tensorflow)",
   "language": "python",
   "name": "tensorflow"
  },
  "language_info": {
   "codemirror_mode": {
    "name": "ipython",
    "version": 3
   },
   "file_extension": ".py",
   "mimetype": "text/x-python",
   "name": "python",
   "nbconvert_exporter": "python",
   "pygments_lexer": "ipython3",
   "version": "3.10.10"
  }
 },
 "nbformat": 4,
 "nbformat_minor": 4
}
